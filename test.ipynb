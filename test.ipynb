{
 "cells": [
  {
   "cell_type": "code",
   "execution_count": null,
   "metadata": {},
   "outputs": [],
   "source": [
    "# Install openai pytho repo\n",
    "%pip install openai --quiet"
   ]
  },
  {
   "cell_type": "code",
   "execution_count": null,
   "metadata": {},
   "outputs": [],
   "source": []
  },
  {
   "cell_type": "markdown",
   "metadata": {},
   "source": [
    "## Images from url"
   ]
  },
  {
   "cell_type": "code",
   "execution_count": 1,
   "metadata": {},
   "outputs": [
    {
     "name": "stdout",
     "output_type": "stream",
     "text": [
      "The image shows a scenic outdoor landscape, featuring a wooden pathway that leads through a lush green field. The field is abundant with tall grass and some scattered bushes in the background, with a clear blue sky and fluffy clouds above. The scene conveys a sense of tranquility and nature.\n"
     ]
    }
   ],
   "source": [
    "from openai import OpenAI\n",
    "\n",
    "client = OpenAI()\n",
    "\n",
    "response = client.responses.create(\n",
    "    model=\"gpt-4o-mini\",\n",
    "    input=[{\n",
    "        \"role\": \"user\",\n",
    "        \"content\": [\n",
    "            {\"type\": \"input_text\", \"text\": \"what's in this image?\"},\n",
    "            {\n",
    "                \"type\": \"input_image\",\n",
    "                \"image_url\": \"https://upload.wikimedia.org/wikipedia/commons/thumb/d/dd/Gfp-wisconsin-madison-the-nature-boardwalk.jpg/2560px-Gfp-wisconsin-madison-the-nature-boardwalk.jpg\",\n",
    "            },\n",
    "        ],\n",
    "    }],\n",
    ")\n",
    "\n",
    "print(response.output_text)"
   ]
  },
  {
   "cell_type": "markdown",
   "metadata": {},
   "source": [
    "## Images from file path"
   ]
  },
  {
   "cell_type": "code",
   "execution_count": null,
   "metadata": {},
   "outputs": [
    {
     "name": "stdout",
     "output_type": "stream",
     "text": [
      "The image shows a lush green landscape with a wooden boardwalk leading through a field of tall grass. The sky is bright and clear, with soft clouds and a blue hue. Trees and bushes are visible in the background, creating a serene and natural setting.\n"
     ]
    }
   ],
   "source": [
    "import base64\n",
    "from openai import OpenAI\n",
    "\n",
    "client = OpenAI()\n",
    "\n",
    "# Function to encode the image\n",
    "def encode_image(image_path):\n",
    "    with open(image_path, \"rb\") as image_file:\n",
    "        return base64.b64encode(image_file.read()).decode(\"utf-8\")\n",
    "\n",
    "\n",
    "# Path to your image\n",
    "image_path = \"../images/nature.jpg\"\n",
    "\n",
    "# Getting the Base64 string\n",
    "base64_image = encode_image(image_path)\n",
    "\n",
    "\n",
    "response = client.responses.create(\n",
    "    model=\"gpt-4o\",\n",
    "    input=[\n",
    "        {\n",
    "            \"role\": \"user\",\n",
    "            \"content\": [\n",
    "                { \"type\": \"input_text\", \"text\": \"what's in this image?\" },\n",
    "                {\n",
    "                    \"type\": \"input_image\",\n",
    "                    \"image_url\": f\"data:image/jpeg;base64,{base64_image}\",\n",
    "                },\n",
    "            ],\n",
    "        }\n",
    "    ],\n",
    ")\n",
    "\n",
    "print(response.output_text)"
   ]
  },
  {
   "cell_type": "markdown",
   "metadata": {},
   "source": [
    "## Images response from OpenaiAPI class"
   ]
  },
  {
   "cell_type": "code",
   "execution_count": null,
   "metadata": {},
   "outputs": [
    {
     "name": "stdout",
     "output_type": "stream",
     "text": [
      "Initializing models list...done.\n",
      "Initializing models list...done.\n",
      "generating image response from path.\n"
     ]
    },
    {
     "data": {
      "text/plain": [
       "'The image depicts a serene landscape featuring a wooden walkway winding through a vibrant grassy area. The boardwalk is situated in the foreground and leads into the lush green field, which is dotted with various plants and small bushes. In the background, trees and a blue sky with wispy clouds create a tranquil setting. The overall atmosphere suggests a peaceful outdoor environment, perfect for leisurely walks or nature exploration.'"
      ]
     },
     "execution_count": 3,
     "metadata": {},
     "output_type": "execute_result"
    }
   ],
   "source": [
    "# invoke openai api for image from path\n",
    "\n",
    "from llm.qa_system import DocumentQA\n",
    "doc_qa = DocumentQA()\n",
    "\n",
    "image_path = \"/home/anon-labs/Documents/Hacker-House-1/images/nature.jpg\"\n",
    "\n",
    "response = doc_qa.query_image(image_path=image_path)\n",
    "\n",
    "response\n",
    "\n",
    "# output\n",
    "# 'The image depicts a serene landscape featuring a wooden walkway winding through a vibrant grassy area. The boardwalk is situated in the foreground and leads into the lush green field, which is dotted with various plants and small bushes. In the background, trees and a blue sky with wispy clouds create a tranquil setting. The overall atmosphere suggests a peaceful outdoor environment, perfect for leisurely walks or nature exploration.'"
   ]
  },
  {
   "cell_type": "code",
   "execution_count": 4,
   "metadata": {},
   "outputs": [
    {
     "name": "stdout",
     "output_type": "stream",
     "text": [
      "Initializing models list...done.\n",
      "Initializing models list...done.\n",
      "generating image response from url.\n"
     ]
    },
    {
     "data": {
      "text/plain": [
       "'The image depicts a serene landscape featuring a wooden pathway winding through a lush green field. The grass is vibrant and thick, extending on either side of the walkway. In the background, there are trees and shrubs, indicating the presence of a natural setting. The sky is clear with soft clouds, creating a tranquil atmosphere. This scene conveys a sense of peace and connection to nature.'"
      ]
     },
     "execution_count": 4,
     "metadata": {},
     "output_type": "execute_result"
    }
   ],
   "source": [
    "# invoke openai api for image from path\n",
    "from llm.qa_system import DocumentQA\n",
    "doc_qa = DocumentQA()\n",
    "\n",
    "image_url = \"https://upload.wikimedia.org/wikipedia/commons/thumb/d/dd/Gfp-wisconsin-madison-the-nature-boardwalk.jpg/2560px-Gfp-wisconsin-madison-the-nature-boardwalk.jpg\"\n",
    "\n",
    "response = doc_qa.query_image(image_url=image_url, query=\"Please describe the image.\")\n",
    "\n",
    "response\n",
    "\n",
    "# Output\n",
    "# 'The image depicts a serene landscape featuring a wooden path winding through a lush, green field. The path, made of wooden planks, leads into the distance, surrounded by tall grass and clusters of shrubs. The sky above is clear with soft, wispy clouds, and the overall lighting suggests a bright, pleasant day. The scene conveys a sense of tranquility and connection with nature.'"
   ]
  },
  {
   "cell_type": "markdown",
   "metadata": {},
   "source": [
    "## List available models"
   ]
  },
  {
   "cell_type": "code",
   "execution_count": null,
   "metadata": {},
   "outputs": [
    {
     "name": "stdout",
     "output_type": "stream",
     "text": [
      "Initializing models list...done.\n",
      "Initializing models list...done.\n",
      "OpenAI Models: ['gpt-4o-audio-preview-2024-12-17', 'dall-e-3', 'dall-e-2', 'gpt-4o-audio-preview-2024-10-01', 'gpt-4o-realtime-preview-2024-10-01', 'gpt-4o-transcribe', 'gpt-4o-mini-transcribe', 'gpt-4o-realtime-preview', 'babbage-002', 'tts-1-hd-1106', 'text-embedding-3-large', 'gpt-4', 'text-embedding-ada-002', 'computer-use-preview-2025-03-11', 'tts-1-hd', 'gpt-4-0125-preview', 'gpt-4o-mini-audio-preview', 'gpt-4-turbo-preview', 'gpt-4o-audio-preview', 'o1-preview-2024-09-12', 'gpt-4o-mini-realtime-preview', 'gpt-4o-mini-realtime-preview-2024-12-17', 'gpt-3.5-turbo-instruct-0914', 'gpt-4o-mini-search-preview', 'tts-1-1106', 'davinci-002', 'gpt-3.5-turbo-1106', 'gpt-4o-search-preview', 'gpt-4-turbo', 'gpt-4o-realtime-preview-2024-12-17', 'gpt-3.5-turbo-instruct', 'gpt-3.5-turbo', 'chatgpt-4o-latest', 'gpt-4o-mini-search-preview-2025-03-11', 'gpt-4o-2024-11-20', 'whisper-1', 'gpt-4o-2024-05-13', 'gpt-4-turbo-2024-04-09', 'gpt-3.5-turbo-16k', 'gpt-4-1106-preview', 'o1-preview', 'gpt-4-0613', 'computer-use-preview', 'gpt-4.5-preview', 'gpt-4.5-preview-2025-02-27', 'gpt-4o-search-preview-2025-03-11', 'o1-2024-12-17', 'o1', 'tts-1', 'omni-moderation-2024-09-26', 'o1-pro', 'o1-pro-2025-03-19', 'text-embedding-3-small', 'gpt-4o', 'o3-mini-2025-01-31', 'gpt-4o-mini', 'gpt-4o-2024-08-06', 'o3-mini', 'gpt-4o-mini-2024-07-18', 'o1-mini', 'gpt-4o-mini-audio-preview-2024-12-17', 'gpt-3.5-turbo-0125', 'o1-mini-2024-09-12', 'gpt-4o-mini-tts', 'omni-moderation-latest']\n",
      "Atoma Models: ['Infermatic/Llama-3.3-70B-Instruct-FP8-Dynamic', 'Qwen/QwQ-32B', 'mistralai/Mistral-Nemo-Instruct-2407']\n"
     ]
    }
   ],
   "source": [
    "# invoke openai api for image from path\n",
    "from llm.qa_system import DocumentQA\n",
    "doc_qa = DocumentQA()\n",
    "\n",
    "print(f'OpenAI Models: {doc_qa.openai_models}')\n",
    "# OpenAI Models: ['gpt-4o-audio-preview-2024-12-17', 'dall-e-3', 'dall-e-2', 'gpt-4o-audio-preview-2024-10-01', 'gpt-4o-realtime-preview-2024-10-01', 'gpt-4o-transcribe', 'gpt-4o-mini-transcribe', 'gpt-4o-realtime-preview', 'babbage-002', 'tts-1-hd-1106', 'text-embedding-3-large', 'gpt-4', 'text-embedding-ada-002', 'computer-use-preview-2025-03-11', 'tts-1-hd', 'gpt-4-0125-preview', 'gpt-4o-mini-audio-preview', 'gpt-4-turbo-preview', 'gpt-4o-audio-preview', 'o1-preview-2024-09-12', 'gpt-4o-mini-realtime-preview', 'gpt-4o-mini-realtime-preview-2024-12-17', 'gpt-3.5-turbo-instruct-0914', 'gpt-4o-mini-search-preview', 'tts-1-1106', 'davinci-002', 'gpt-3.5-turbo-1106', 'gpt-4o-search-preview', 'gpt-4-turbo', 'gpt-4o-realtime-preview-2024-12-17', 'gpt-3.5-turbo-instruct', 'gpt-3.5-turbo', 'chatgpt-4o-latest', 'gpt-4o-mini-search-preview-2025-03-11', 'gpt-4o-2024-11-20', 'whisper-1', 'gpt-4o-2024-05-13', 'gpt-4-turbo-2024-04-09', 'gpt-3.5-turbo-16k', 'gpt-4-1106-preview', 'o1-preview', 'gpt-4-0613', 'computer-use-preview', 'gpt-4.5-preview', 'gpt-4.5-preview-2025-02-27', 'gpt-4o-search-preview-2025-03-11', 'o1-2024-12-17', 'o1', 'tts-1', 'omni-moderation-2024-09-26', 'o1-pro', 'o1-pro-2025-03-19', 'text-embedding-3-small', 'gpt-4o', 'o3-mini-2025-01-31', 'gpt-4o-mini', 'gpt-4o-2024-08-06', 'o3-mini', 'gpt-4o-mini-2024-07-18', 'o1-mini', 'gpt-4o-mini-audio-preview-2024-12-17', 'gpt-3.5-turbo-0125', 'o1-mini-2024-09-12', 'gpt-4o-mini-tts', 'omni-moderation-latest']\n",
    "\n",
    "print(f'Atoma Models: {doc_qa.atoma_models}')\n",
    "# Atoma Models: ['Infermatic/Llama-3.3-70B-Instruct-FP8-Dynamic', 'Qwen/QwQ-32B', 'mistralai/Mistral-Nemo-Instruct-2407']\n"
   ]
  },
  {
   "cell_type": "markdown",
   "metadata": {},
   "source": [
    "## Query LLM"
   ]
  },
  {
   "cell_type": "code",
   "execution_count": null,
   "metadata": {},
   "outputs": [],
   "source": [
    "# invoke openai api for chat\n",
    "import asyncio\n",
    "\n",
    "from llm.qa_system import DocumentQA\n",
    "doc_qa = DocumentQA()\n",
    "\n",
    "response = asyncio.run(doc_qa.query_llm(query=\"Hello, how are you?\", model_name=\"gpt-4o-mini\"))\n",
    "response\n",
    "\n",
    "## Example Output\n",
    "# Hello! I'm just a computer program, so I don't have feelings, but I'm here and ready to help you. How can I assist you today?\""
   ]
  },
  {
   "cell_type": "markdown",
   "metadata": {},
   "source": [
    "## Query LLM with RAG"
   ]
  },
  {
   "cell_type": "code",
   "execution_count": null,
   "metadata": {},
   "outputs": [],
   "source": [
    "import asyncio\n",
    "\n",
    "from llm.qa_system import DocumentQA\n",
    "doc_qa = DocumentQA()\n",
    "\n",
    "response = asyncio.run(doc_qa.chat_with_rag(query=\"What is the capital of india?\"))\n",
    "print(response)\n"
   ]
  }
 ],
 "metadata": {
  "kernelspec": {
   "display_name": ".venv",
   "language": "python",
   "name": "python3"
  },
  "language_info": {
   "codemirror_mode": {
    "name": "ipython",
    "version": 3
   },
   "file_extension": ".py",
   "mimetype": "text/x-python",
   "name": "python",
   "nbconvert_exporter": "python",
   "pygments_lexer": "ipython3",
   "version": "3.10.12"
  }
 },
 "nbformat": 4,
 "nbformat_minor": 2
}
